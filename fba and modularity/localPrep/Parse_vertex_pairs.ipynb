{
 "cells": [
  {
   "cell_type": "code",
   "execution_count": 1,
   "metadata": {},
   "outputs": [],
   "source": [
    "from openpyxl import load_workbook\n",
    "from xlsxwriter import Workbook\n",
    "import pickle"
   ]
  },
  {
   "cell_type": "code",
   "execution_count": 2,
   "metadata": {},
   "outputs": [],
   "source": [
    "wb = load_workbook(filename='iML1515.xlsx')\n",
    "ws = wb['Reaction List']"
   ]
  },
  {
   "cell_type": "code",
   "execution_count": 3,
   "metadata": {},
   "outputs": [],
   "source": [
    "# list of reaction abbreviations\n",
    "rxn_abbr = ws['A']\n",
    "rxn_abbr = [x.value for x in rxn_abbr]\n",
    "rxn_abbr = rxn_abbr[1:]\n",
    "\n",
    "# list of reaction equations\n",
    "rxn_equ = ws['C']\n",
    "rxn_equ = [x.value for x in rxn_equ]\n",
    "rxn_equ = rxn_equ[1:]"
   ]
  },
  {
   "cell_type": "code",
   "execution_count": 4,
   "metadata": {},
   "outputs": [],
   "source": [
    "# obtain pairs\n",
    "dict_all = {}\n",
    "for i in range(len(rxn_abbr)):\n",
    "\tdict_this_reaction = {}\n",
    "\tabbr = rxn_abbr[i]\n",
    "\tequ = rxn_equ[i]\n",
    "\tif '->' in equ:\n",
    "\t\ttwoSides = equ.split('->')\n",
    "\tif '<=>' in equ:\n",
    "\t\ttwoSides = equ.split('<=>')\n",
    "\tsources = twoSides[0]\n",
    "\tdest = twoSides[1]\n",
    "\tlst_src = sources.split('+')\n",
    "\tlst_dest = dest.split('+')\n",
    "\tlst_src = [ x.strip() for x in lst_src ]\n",
    "\tlst_dest = [ x.strip() for x in lst_dest ]\n",
    "\t\n",
    "\tfor srcnode in lst_src:\n",
    "\t\tif ' ' in srcnode:\n",
    "\t\t\tlst = srcnode.split(' ')\n",
    "\t\t\tweight = float(lst[0])\n",
    "\t\t\tnode = lst[1]\n",
    "\t\telse:\n",
    "\t\t\tnode = srcnode\n",
    "\t\t\tweight = 1.0\n",
    "\t\tdict_this_reaction[(node,abbr)] = weight\n",
    "\t\n",
    "\tfor destnode in lst_dest:\n",
    "\t\tif ' ' in destnode:\n",
    "\t\t\tlst = destnode.split(' ')\n",
    "\t\t\tweight = float(lst[0])\n",
    "\t\t\tnode = lst[1]\n",
    "\t\telse:\n",
    "\t\t\tnode = destnode\n",
    "\t\t\tweight = 1.0\n",
    "\t\tif node != '':\n",
    "\t\t\tdict_this_reaction[(abbr, node)] = weight\n",
    "\n",
    "\tdict_all[abbr]=dict_this_reaction"
   ]
  },
  {
   "cell_type": "code",
   "execution_count": 5,
   "metadata": {},
   "outputs": [
    {
     "data": {
      "text/plain": [
       "{('FCLT', 'h_c'): 2.0,\n",
       " ('FCLT', 'pheme_c'): 1.0,\n",
       " ('fe2_c', 'FCLT'): 1.0,\n",
       " ('ppp9_c', 'FCLT'): 1.0}"
      ]
     },
     "execution_count": 5,
     "metadata": {},
     "output_type": "execute_result"
    }
   ],
   "source": [
    "dict_all['FCLT']"
   ]
  },
  {
   "cell_type": "code",
   "execution_count": 6,
   "metadata": {},
   "outputs": [],
   "source": [
    "file = open(r'dict_all.pkl', 'wb')\n",
    "pickle.dump(dict_all, file)\n",
    "file.close()"
   ]
  },
  {
   "cell_type": "code",
   "execution_count": 7,
   "metadata": {},
   "outputs": [],
   "source": [
    "# save to xlsx\n",
    "header_lst = ['Abbr','Equ','Pairs']\n",
    "wb_write = Workbook('iML1515_pairs.xlsx')\n",
    "ws_write = wb_write.add_worksheet('Reactions')\n",
    "\n",
    "header_row = 0\n",
    "for col in range(0,len(header_lst)):\n",
    "\tws_write.write(header_row, col, header_lst[col])\n",
    "\n",
    "row = 1\n",
    "for i in range(len(rxn_abbr)):\n",
    "\tabbr = rxn_abbr[i]\n",
    "\tequ = rxn_equ[i]\n",
    "\tws_write.write(row, 0, abbr)\n",
    "\tws_write.write(row, 1, equ)\n",
    "\tdict_this_reaction = dict_all[abbr]\n",
    "\tstring_pairs = ', '.join(\"{!s}={!r}\".format(key,val) for (key,val) in dict_this_reaction.items())\n",
    "\tws_write.write(row, 2, string_pairs)\n",
    "\trow += 1"
   ]
  },
  {
   "cell_type": "code",
   "execution_count": 8,
   "metadata": {},
   "outputs": [],
   "source": [
    "wb_write.close()"
   ]
  },
  {
   "cell_type": "markdown",
   "metadata": {},
   "source": [
    "# Save subsystem info"
   ]
  },
  {
   "cell_type": "code",
   "execution_count": 9,
   "metadata": {},
   "outputs": [],
   "source": [
    "from openpyxl import load_workbook\n",
    "from xlsxwriter import Workbook\n",
    "import pickle"
   ]
  },
  {
   "cell_type": "code",
   "execution_count": 10,
   "metadata": {},
   "outputs": [],
   "source": [
    "wb = load_workbook(filename='iML1515.xlsx')\n",
    "ws = wb['Reaction List']"
   ]
  },
  {
   "cell_type": "code",
   "execution_count": 11,
   "metadata": {},
   "outputs": [],
   "source": [
    "# list of reaction abbreviations\n",
    "rxn_abbr = ws['A']\n",
    "rxn_abbr = [x.value for x in rxn_abbr]\n",
    "rxn_abbr = rxn_abbr[1:]\n",
    "\n",
    "# list of reaction subsystems\n",
    "rxn_subsys = ws['H']\n",
    "rxn_subsys = [x.value for x in rxn_subsys]\n",
    "rxn_subsys = rxn_subsys[1:]"
   ]
  },
  {
   "cell_type": "code",
   "execution_count": 12,
   "metadata": {},
   "outputs": [],
   "source": [
    "dict_subsys = {}\n",
    "for abbr, subsys in zip(rxn_abbr, rxn_subsys):\n",
    "    dict_subsys[abbr]=subsys"
   ]
  },
  {
   "cell_type": "code",
   "execution_count": 13,
   "metadata": {},
   "outputs": [],
   "source": [
    "file = open(r'dict_subsys.pkl', 'wb')\n",
    "pickle.dump(dict_subsys, file)\n",
    "file.close()"
   ]
  },
  {
   "cell_type": "code",
   "execution_count": 14,
   "metadata": {},
   "outputs": [
    {
     "data": {
      "text/plain": [
       "2712"
      ]
     },
     "execution_count": 14,
     "metadata": {},
     "output_type": "execute_result"
    }
   ],
   "source": [
    "len(dict_subsys)"
   ]
  },
  {
   "cell_type": "code",
   "execution_count": null,
   "metadata": {},
   "outputs": [],
   "source": []
  }
 ],
 "metadata": {
  "kernelspec": {
   "display_name": "Python 3",
   "language": "python",
   "name": "python3"
  },
  "language_info": {
   "codemirror_mode": {
    "name": "ipython",
    "version": 3
   },
   "file_extension": ".py",
   "mimetype": "text/x-python",
   "name": "python",
   "nbconvert_exporter": "python",
   "pygments_lexer": "ipython3",
   "version": "3.6.4"
  },
  "widgets": {
   "state": {},
   "version": "1.1.2"
  }
 },
 "nbformat": 4,
 "nbformat_minor": 2
}
